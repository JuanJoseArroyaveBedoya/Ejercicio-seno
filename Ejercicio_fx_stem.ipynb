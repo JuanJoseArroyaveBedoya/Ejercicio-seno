{
  "nbformat": 4,
  "nbformat_minor": 0,
  "metadata": {
    "colab": {
      "private_outputs": true,
      "provenance": [],
      "authorship_tag": "ABX9TyMTlK7KuUBmQMIZleb7AUib",
      "include_colab_link": true
    },
    "kernelspec": {
      "name": "python3",
      "display_name": "Python 3"
    },
    "language_info": {
      "name": "python"
    }
  },
  "cells": [
    {
      "cell_type": "markdown",
      "metadata": {
        "id": "view-in-github",
        "colab_type": "text"
      },
      "source": [
        "<a href=\"https://colab.research.google.com/github/JuanJoseArroyaveBedoya/Ejercicio-seno/blob/main/Ejercicio_fx_stem.ipynb\" target=\"_parent\"><img src=\"https://colab.research.google.com/assets/colab-badge.svg\" alt=\"Open In Colab\"/></a>"
      ]
    },
    {
      "cell_type": "markdown",
      "source": [
        "Después de acondicionar las señales ilustradas en el presente cuaderno, simule un proceso de discretización con  Fs≥2Fo.  Dibuje el resultado de la señal discretizada utilizando la función stem.\n",
        "\n",
        "Consultar el funcionamiento de los métodos cdist y argmin.\n",
        "\n",
        "Realice una función mediante el ambiente def que permita realizar los procesos de discretización y cuantización (usando cdist y argmin) en cascada para un conversor análogo-digital de 3 bits con entrada análoga de 0 a 10 [v]. Presente las gráficas de la señal original, señal con cero y pendiente, señal discretizada, y señal digital."
      ],
      "metadata": {
        "id": "ukj46sH3kHWA"
      }
    },
    {
      "cell_type": "code",
      "source": [
        "import numpy as np\n",
        "import matplotlib.pyplot as plt\n",
        "\n",
        "K = 500 # número de muestras\n",
        "f= 60\n",
        "T_o = 1/f # periodo función sen\n",
        "fs = 40*f\n",
        "ts = 1/fs\n",
        "A = 120\n",
        "ti = 0\n",
        "tf = T_o\n",
        "tv = np.arange(ti,tf,ts) #vector de datos en tiempo\n",
        "xv = A * np.cos(2*np.pi*tv/T_o) #vector de amplitud\n",
        "lc = 'g'\n",
        "mc = 'y'\n",
        "plt.stem(tv, xv, linefmt=lc, markerfmt=mc, use_line_collection=True)\n",
        "plt.show()"
      ],
      "metadata": {
        "id": "jPT7dPiGkJUP"
      },
      "execution_count": null,
      "outputs": []
    },
    {
      "cell_type": "code",
      "source": [
        "sm=xv-np.min(xv)# Calcula la diferencia entre cada elemento de xv y el valor mínimo de xv\n",
        "sm=sm*(5/np.max(sm))#Escalar los valores de sm\n",
        "lc = 'g'\n",
        "mc = 'y'\n",
        "plt.stem(tv, sm, linefmt=lc, markerfmt=mc, use_line_collection=True)\n",
        "plt.show()"
      ],
      "metadata": {
        "id": "WZnwPUJCkqRI"
      },
      "execution_count": null,
      "outputs": []
    },
    {
      "cell_type": "code",
      "source": [],
      "metadata": {
        "id": "sP5-t_Dekss_"
      },
      "execution_count": null,
      "outputs": []
    }
  ]
}